{
 "cells": [
  {
   "cell_type": "markdown",
   "id": "184b2c6f",
   "metadata": {},
   "source": [
    "#### Implementation of stochastic gradient descent optimization algo"
   ]
  },
  {
   "cell_type": "code",
   "execution_count": 6,
   "id": "6d378a3b",
   "metadata": {},
   "outputs": [],
   "source": [
    "import pandas as pd\n",
    "import numpy as np\n",
    "from matplotlib import pyplot as plt\n",
    "from sklearn import preprocessing\n",
    "#%matplotlib.inline\n",
    "df = pd.read_csv('train.csv')\n",
    "df = df.dropna()\n",
    "sx= preprocessing.MinMaxScaler()\n",
    "sy= preprocessing.MinMaxScaler()\n",
    "scaled_x = sx.fit_transform(df.drop('SalePrice',axis='columns'))\n",
    "scaled_y = sy.fit_transform(df['SalePrice'].values.reshape(df.shape[0],1))"
   ]
  },
  {
   "cell_type": "code",
   "execution_count": 10,
   "id": "c5635997",
   "metadata": {},
   "outputs": [],
   "source": [
    "\n",
    "#mini batch gradient descent\n",
    "def batch_gradent_descent(X,y_true, epochs, learning_rate = 0.01):\n",
    "    number_of_features= X.shape[1] \n",
    "    w= np.ones(shape= number_of_features) # array of weights\n",
    "    b= 0 # bias\n",
    "    total_samples= X.shape[0]\n",
    "    cost_list = []\n",
    "    epoch_list = []\n",
    "    for i in range (epochs):\n",
    "        y_predicted = np.dot(w, X.T) + b # Y= ax+b\n",
    "        w_grad = -(1.0/total_samples)*(X.T.dot(y_true-y_predicted)) # cost function for weight\n",
    "        b_grad = -(1.0/total_samples)*np.sum(y_true-y_predicted) # cost function for weight\n",
    "        w = w - learning_rate * w_grad  # new weight\n",
    "        b = b - learning_rate * b_grad  # new bias\n",
    "        cost = np.mean(np.square(y_true-y_predicted)) # MSE (Mean Squared Error)\n",
    "        if i%10==0:\n",
    "            cost_list.append(cost)\n",
    "            epoch_list.append(i)\n",
    "        \n",
    "    return w, b, cost, cost_list, epoch_list\n",
    "w, b, cost, cost_list, epoch_list = batch_gradent_descent(scaled_x,scaled_y.reshape(scaled_y.shape[0]),100)\n"
   ]
  },
  {
   "cell_type": "code",
   "execution_count": 9,
   "id": "8ee0b7a9",
   "metadata": {},
   "outputs": [
    {
     "data": {
      "text/plain": [
       "[<matplotlib.lines.Line2D at 0x1f0621de8e0>]"
      ]
     },
     "execution_count": 9,
     "metadata": {},
     "output_type": "execute_result"
    },
    {
     "data": {
      "image/png": "[encoded data removed]",
      "text/plain": [
       "<Figure size 432x288 with 1 Axes>"
      ]
     },
     "metadata": {
      "needs_background": "light"
     },
     "output_type": "display_data"
    }
   ],
   "source": [
    "plt.xlabel(\"epoch\")\n",
    "plt.ylabel(\"cost\")\n",
    "plt.plot(epoch_list,cost_list)"
   ]
  },
  {
   "cell_type": "code",
   "execution_count": 84,
   "id": "1d8af40d",
   "metadata": {},
   "outputs": [],
   "source": []
  },
  {
   "cell_type": "code",
   "execution_count": 85,
   "id": "b4611ff6",
   "metadata": {},
   "outputs": [],
   "source": []
  },
  {
   "cell_type": "code",
   "execution_count": 86,
   "id": "95c2fad1",
   "metadata": {},
   "outputs": [
    {
     "data": {
      "text/plain": [
       "array([[0.00000000e+00, 2.35294118e-01, 1.50684932e-01, ...,\n",
       "        0.00000000e+00, 9.09090909e-02, 5.00000000e-01],\n",
       "       [6.85400960e-04, 0.00000000e+00, 2.02054795e-01, ...,\n",
       "        0.00000000e+00, 3.63636364e-01, 2.50000000e-01],\n",
       "       [1.37080192e-03, 2.35294118e-01, 1.60958904e-01, ...,\n",
       "        0.00000000e+00, 7.27272727e-01, 5.00000000e-01],\n",
       "       ...,\n",
       "       [9.98629198e-01, 2.94117647e-01, 1.54109589e-01, ...,\n",
       "        1.00000000e+00, 3.63636364e-01, 1.00000000e+00],\n",
       "       [9.99314599e-01, 0.00000000e+00, 1.60958904e-01, ...,\n",
       "        0.00000000e+00, 2.72727273e-01, 1.00000000e+00],\n",
       "       [1.00000000e+00, 0.00000000e+00, 1.84931507e-01, ...,\n",
       "        0.00000000e+00, 4.54545455e-01, 5.00000000e-01]])"
      ]
     },
     "execution_count": 86,
     "metadata": {},
     "output_type": "execute_result"
    }
   ],
   "source": [
    "scaled_x"
   ]
  },
  {
   "cell_type": "code",
   "execution_count": 87,
   "id": "588db953",
   "metadata": {},
   "outputs": [
    {
     "data": {
      "text/plain": [
       "array([[208500],\n",
       "       [181500],\n",
       "       [223500],\n",
       "       ...,\n",
       "       [266500],\n",
       "       [142125],\n",
       "       [147500]], dtype=int64)"
      ]
     },
     "execution_count": 87,
     "metadata": {},
     "output_type": "execute_result"
    }
   ],
   "source": [
    "df['SalePrice'].values.reshape(df.shape[0],1)"
   ]
  },
  {
   "cell_type": "code",
   "execution_count": 88,
   "id": "de610e66",
   "metadata": {},
   "outputs": [],
   "source": []
  },
  {
   "cell_type": "code",
   "execution_count": 89,
   "id": "019b0aaf",
   "metadata": {},
   "outputs": [
    {
     "data": {
      "text/plain": [
       "array([[0.24064422],\n",
       "       [0.20312802],\n",
       "       [0.26148656],\n",
       "       ...,\n",
       "       [0.32123459],\n",
       "       [0.14841689],\n",
       "       [0.15588539]])"
      ]
     },
     "execution_count": 89,
     "metadata": {},
     "output_type": "execute_result"
    }
   ],
   "source": [
    "scaled_y"
   ]
  },
  {
   "cell_type": "code",
   "execution_count": null,
   "id": "e6aeda94",
   "metadata": {},
   "outputs": [],
   "source": []
  },
  {
   "cell_type": "code",
   "execution_count": 46,
   "id": "5c7b0b02",
   "metadata": {},
   "outputs": [],
   "source": [
    "w= np.ones(scaled_x.shape[1])"
   ]
  },
  {
   "cell_type": "code",
   "execution_count": 47,
   "id": "06d842d2",
   "metadata": {},
   "outputs": [
    {
     "data": {
      "text/plain": [
       "array([ 9.89672695,  8.76656011, 10.78936178, ..., 11.51254815,\n",
       "        9.07153939,  9.39306286])"
      ]
     },
     "execution_count": 47,
     "metadata": {},
     "output_type": "execute_result"
    }
   ],
   "source": [
    "np.dot(w, scaled_x.T)"
   ]
  },
  {
   "cell_type": "code",
   "execution_count": 73,
   "id": "3394d97a",
   "metadata": {},
   "outputs": [
    {
     "ename": "ValueError",
     "evalue": "cannot reshape array of size 1460 into shape (1460,0)",
     "output_type": "error",
     "traceback": [
      "\u001b[1;31m---------------------------------------------------------------------------\u001b[0m",
      "\u001b[1;31mValueError\u001b[0m                                Traceback (most recent call last)",
      "\u001b[1;32m<ipython-input-73-0bb789b86943>\u001b[0m in \u001b[0;36m<module>\u001b[1;34m\u001b[0m\n\u001b[1;32m----> 1\u001b[1;33m \u001b[0mscaled_y\u001b[0m\u001b[1;33m.\u001b[0m\u001b[0mreshape\u001b[0m\u001b[1;33m(\u001b[0m\u001b[0mscaled_y\u001b[0m\u001b[1;33m.\u001b[0m\u001b[0mshape\u001b[0m\u001b[1;33m[\u001b[0m\u001b[1;36m0\u001b[0m\u001b[1;33m]\u001b[0m\u001b[1;33m,\u001b[0m\u001b[1;36m0\u001b[0m\u001b[1;33m)\u001b[0m\u001b[1;33m\u001b[0m\u001b[1;33m\u001b[0m\u001b[0m\n\u001b[0m",
      "\u001b[1;31mValueError\u001b[0m: cannot reshape array of size 1460 into shape (1460,0)"
     ]
    }
   ],
   "source": [
    "scaled_y.reshape(scaled_y.shape[0])"
   ]
  },
  {
   "cell_type": "code",
   "execution_count": 98,
   "id": "575edfeb",
   "metadata": {},
   "outputs": [],
   "source": []
  },
  {
   "cell_type": "code",
   "execution_count": 94,
   "id": "408e0278",
   "metadata": {},
   "outputs": [
    {
     "data": {
      "text/plain": [
       "(array([ 0.1752911 ,  0.49046003,  0.62624901,  0.89051971, -0.07132489,\n",
       "         0.26369327, -0.12756677, -0.06740377,  0.71373217,  0.77656112,\n",
       "         0.88912268,  0.58975392,  0.61000703,  0.57746689,  0.35731645,\n",
       "         0.9424574 ,  0.39325293,  0.41276957,  0.89566633, -0.03818075,\n",
       "         0.34157348,  0.10039345,  0.88845855, -0.01220671,  0.28545865,\n",
       "        -0.15829547,  0.20162342,  0.3296251 ,  0.66766318,  0.70488992,\n",
       "         0.89563731,  0.97441657,  0.81966181,  0.92255938,  0.94613072,\n",
       "         0.19805873,  0.21448117]),\n",
       " -1.489768162187707,\n",
       " 0.25751810236017897)"
      ]
     },
     "execution_count": 94,
     "metadata": {},
     "output_type": "execute_result"
    }
   ],
   "source": []
  },
  {
   "cell_type": "code",
   "execution_count": 99,
   "id": "585c62ad",
   "metadata": {},
   "outputs": [
    {
     "data": {
      "text/plain": [
       "[<matplotlib.lines.Line2D at 0x1dd10316ca0>]"
      ]
     },
     "execution_count": 99,
     "metadata": {},
     "output_type": "execute_result"
    },
    {
     "data": {
      "image/png": "[encoded data removed]",
      "text/plain": [
       "<Figure size 432x288 with 1 Axes>"
      ]
     },
     "metadata": {
      "needs_background": "light"
     },
     "output_type": "display_data"
    }
   ],
   "source": []
  },
  {
   "cell_type": "code",
   "execution_count": 109,
   "id": "882c3509",
   "metadata": {},
   "outputs": [],
   "source": [
    "# def predict(area,bedrooms,w,b):\n",
    "#     scaled_X = sx.transform([[area, bedrooms]])[0]\n",
    "#     # here w1 = w[0] , w2 = w[1], w3 = w[2] and bias is b\n",
    "#     # equation for price is w1*area + w2*bedrooms + w3*age + bias\n",
    "#     # scaled_X[0] is area\n",
    "#     # scaled_X[1] is bedrooms\n",
    "#     # scaled_X[2] is age\n",
    "#     scaled_price = w[0] * scaled_X[0] + w[1] * scaled_X[1] + b\n",
    "#     # once we get price prediction we need to to rescal it back to original value\n",
    "#     # also since it returns 2D array, to get single value we need to do value[0][0]\n",
    "#     return sy.inverse_transform([[scaled_price]])[0][0]\n",
    "\n",
    "# predict(2600,4,w,b)"
   ]
  },
  {
   "cell_type": "markdown",
   "id": "575f1734",
   "metadata": {},
   "source": [
    "### Stochastic Gradient Descent Implementation\n",
    "###### Stochastic GD will use randomly picked single training sample to calculate error and using this error we backpropage to adjust weights"
   ]
  },
  {
   "cell_type": "code",
   "execution_count": 102,
   "id": "dd090f97",
   "metadata": {},
   "outputs": [
    {
     "data": {
      "text/plain": [
       "3"
      ]
     },
     "execution_count": 102,
     "metadata": {},
     "output_type": "execute_result"
    }
   ],
   "source": [
    "# we will use random libary to pick random training sample.\n",
    "import random\n",
    "random.randint(0,6) # randit gives random number between two numbers specified in the argument"
   ]
  },
  {
   "cell_type": "code",
   "execution_count": 110,
   "id": "fc8bc87b",
   "metadata": {},
   "outputs": [
    {
     "data": {
      "text/plain": [
       "(array([0.4811023 , 0.76448116, 0.81749607, 0.95532828, 0.4214898 ,\n",
       "        0.48149286, 0.23542054, 0.33571841, 0.9165549 , 0.91302893,\n",
       "        0.96892076, 0.73077299, 0.80923243, 0.81016377, 0.78975904,\n",
       "        0.98946332, 0.76023484, 0.772006  , 0.97002382, 0.42412673,\n",
       "        0.76877385, 0.4941929 , 0.97697084, 0.55747703, 0.76242299,\n",
       "        0.23136027, 0.6567323 , 0.69234801, 0.8750767 , 0.89911338,\n",
       "        0.96345069, 0.99278116, 0.96064645, 0.99201772, 0.99197149,\n",
       "        0.48768217, 0.52647508]),\n",
       " -1.0319194462840469,\n",
       " 8.301644149930667)"
      ]
     },
     "execution_count": 110,
     "metadata": {},
     "output_type": "execute_result"
    }
   ],
   "source": [
    "def stochastic_gradient_descent(X, y_true, epochs, learning_rate = 0.01):\n",
    " \n",
    "    number_of_features = X.shape[1]\n",
    "    # numpy array with 1 row and columns equal to number of features. In \n",
    "    # our case number_of_features = 3 (area, bedroom and age)\n",
    "    w = np.ones(shape=(number_of_features)) \n",
    "    b = 0\n",
    "    total_samples = X.shape[0]\n",
    "    \n",
    "    cost_list = []\n",
    "    epoch_list = []\n",
    "    \n",
    "    for i in range(epochs):    \n",
    "        random_index = random.randint(0,total_samples-1) # random index from total samples\n",
    "        sample_x = X[random_index]\n",
    "        sample_y = y_true[random_index]\n",
    "        \n",
    "        y_predicted = np.dot(w, sample_x.T) + b\n",
    "    \n",
    "        w_grad = -(2/total_samples)*(sample_x.T.dot(sample_y-y_predicted))\n",
    "        b_grad = -(2/total_samples)*(sample_y-y_predicted)\n",
    "        \n",
    "        w = w - learning_rate * w_grad\n",
    "        b = b - learning_rate * b_grad\n",
    "        \n",
    "        cost = np.square(sample_y-y_predicted)\n",
    "        \n",
    "        if i%100==0: # at every 100th iteration record the cost and epoch value\n",
    "            cost_list.append(cost)\n",
    "            epoch_list.append(i)\n",
    "        \n",
    "    return w, b, cost, cost_list, epoch_list\n",
    "\n",
    "w_sgd, b_sgd, cost_sgd, cost_list_sgd, epoch_list_sgd = stochastic_gradient_descent(scaled_x,scaled_y.reshape(scaled_y.shape[0],),10000)\n",
    "w_sgd, b_sgd, cost_sgd"
   ]
  },
  {
   "cell_type": "code",
   "execution_count": 111,
   "id": "4974c2fa",
   "metadata": {},
   "outputs": [
    {
     "data": {
      "text/plain": [
       "(array([ 0.1752911 ,  0.49046003,  0.62624901,  0.89051971, -0.07132489,\n",
       "         0.26369327, -0.12756677, -0.06740377,  0.71373217,  0.77656112,\n",
       "         0.88912268,  0.58975392,  0.61000703,  0.57746689,  0.35731645,\n",
       "         0.9424574 ,  0.39325293,  0.41276957,  0.89566633, -0.03818075,\n",
       "         0.34157348,  0.10039345,  0.88845855, -0.01220671,  0.28545865,\n",
       "        -0.15829547,  0.20162342,  0.3296251 ,  0.66766318,  0.70488992,\n",
       "         0.89563731,  0.97441657,  0.81966181,  0.92255938,  0.94613072,\n",
       "         0.19805873,  0.21448117]),\n",
       " -1.489768162187707)"
      ]
     },
     "execution_count": 111,
     "metadata": {},
     "output_type": "execute_result"
    }
   ],
   "source": [
    "# weights & bias\n",
    "w , b "
   ]
  },
  {
   "cell_type": "code",
   "execution_count": 112,
   "id": "9b2e43b9",
   "metadata": {},
   "outputs": [
    {
     "data": {
      "text/plain": [
       "[<matplotlib.lines.Line2D at 0x1dd10a15af0>]"
      ]
     },
     "execution_count": 112,
     "metadata": {},
     "output_type": "execute_result"
    },
    {
     "data": {
      "image/png": "[encoded data removed]",
      "text/plain": [
       "<Figure size 432x288 with 1 Axes>"
      ]
     },
     "metadata": {
      "needs_background": "light"
     },
     "output_type": "display_data"
    }
   ],
   "source": [
    "plt.xlabel(\"epoch\")\n",
    "plt.ylabel(\"cost\")\n",
    "plt.plot(epoch_list_sgd,cost_list_sgd)"
   ]
  },
  {
   "cell_type": "markdown",
   "id": "10f5cda8",
   "metadata": {},
   "source": [
    "## Implementation of mini batch grandient descent "
   ]
  },
  {
   "cell_type": "code",
   "execution_count": 113,
   "id": "56808d44",
   "metadata": {},
   "outputs": [
    {
     "data": {
      "text/plain": [
       "array([18,  3, 19, 15, 13,  5,  1,  9,  6, 14,  2,  0, 16, 10, 17, 12,  4,\n",
       "        7, 11,  8])"
      ]
     },
     "execution_count": 113,
     "metadata": {},
     "output_type": "execute_result"
    }
   ],
   "source": [
    "np.random.permutation(20)"
   ]
  },
  {
   "cell_type": "code",
   "execution_count": 114,
   "id": "e17a59b3",
   "metadata": {},
   "outputs": [],
   "source": [
    "def mini_batch_gradient_descent(X, y_true, epochs = 100, batch_size = 5, learning_rate = 0.01):\n",
    "    \n",
    "    number_of_features = X.shape[1]\n",
    "    # numpy array with 1 row and columns equal to number of features. In \n",
    "    # our case number_of_features = 3 (area, bedroom and age)\n",
    "    w = np.ones(shape=(number_of_features)) \n",
    "    b = 0\n",
    "    total_samples = X.shape[0] # number of rows in X\n",
    "    \n",
    "    if batch_size > total_samples: # In this case mini batch becomes same as batch gradient descent\n",
    "        batch_size = total_samples\n",
    "        \n",
    "    cost_list = []\n",
    "    epoch_list = []\n",
    "    \n",
    "    num_batches = int(total_samples/batch_size)\n",
    "    \n",
    "    for i in range(epochs):    \n",
    "        random_indices = np.random.permutation(total_samples)\n",
    "        X_tmp = X[random_indices]\n",
    "        y_tmp = y_true[random_indices]\n",
    "        \n",
    "        for j in range(0,total_samples,batch_size):\n",
    "            Xj = X_tmp[j:j+batch_size]\n",
    "            yj = y_tmp[j:j+batch_size]\n",
    "            y_predicted = np.dot(w, Xj.T) + b\n",
    "            \n",
    "            w_grad = -(2/len(Xj))*(Xj.T.dot(yj-y_predicted))\n",
    "            b_grad = -(2/len(Xj))*np.sum(yj-y_predicted)\n",
    "            \n",
    "            w = w - learning_rate * w_grad\n",
    "            b = b - learning_rate * b_grad\n",
    "                \n",
    "            cost = np.mean(np.square(yj-y_predicted)) # MSE (Mean Squared Error)\n",
    "        \n",
    "        if i%10==0:\n",
    "            cost_list.append(cost)\n",
    "            epoch_list.append(i)\n",
    "        \n",
    "    return w, b, cost, cost_list, epoch_list"
   ]
  },
  {
   "cell_type": "code",
   "execution_count": 118,
   "id": "56922885",
   "metadata": {},
   "outputs": [],
   "source": [
    "w, b, cost, cost_list, epoch_list = mini_batch_gradient_descent(scaled_x,scaled_y.reshape(scaled_y.shape[0],),epochs = 120,batch_size = 10)"
   ]
  },
  {
   "cell_type": "code",
   "execution_count": 119,
   "id": "56ff5484",
   "metadata": {},
   "outputs": [
    {
     "data": {
      "text/plain": [
       "(array([ 0.01198281, -0.02461595,  0.05103961,  0.63642375,  0.15427847,\n",
       "         0.2115537 ,  0.22377173, -0.01929097,  0.11496403,  0.52002593,\n",
       "         0.1292093 ,  0.18684206,  0.03567004,  0.09650994,  0.20828055,\n",
       "         0.32383837, -0.12703917, -0.0065185 , -0.01380384,  0.0021595 ,\n",
       "        -0.00364298, -0.00702085,  0.17838078, -0.05249089,  0.02029921,\n",
       "         0.02038807,  0.07102068, -0.06156213,  0.05250612,  0.00814329,\n",
       "         0.18160167,  0.41512489,  0.04695681,  0.12560205,  0.21872007,\n",
       "         0.01891949,  0.00310083]),\n",
       " -0.3348019099287081,\n",
       " 3.6352591022220083e-05)"
      ]
     },
     "execution_count": 119,
     "metadata": {},
     "output_type": "execute_result"
    }
   ],
   "source": [
    "w, b, cost"
   ]
  },
  {
   "cell_type": "code",
   "execution_count": 120,
   "id": "482b6dd9",
   "metadata": {},
   "outputs": [
    {
     "data": {
      "text/plain": [
       "[<matplotlib.lines.Line2D at 0x1dd0fdc1b20>]"
      ]
     },
     "execution_count": 120,
     "metadata": {},
     "output_type": "execute_result"
    },
    {
     "data": {
      "image/png": "[encoded data removed]",
      "text/plain": [
       "<Figure size 432x288 with 1 Axes>"
      ]
     },
     "metadata": {
      "needs_background": "light"
     },
     "output_type": "display_data"
    }
   ],
   "source": [
    "plt.xlabel(\"epoch\")\n",
    "plt.ylabel(\"cost\")\n",
    "plt.plot(epoch_list,cost_list)"
   ]
  }
 ],
 "metadata": {
  "kernelspec": {
   "display_name": "Python 3",
   "language": "python",
   "name": "python3"
  },
  "language_info": {
   "codemirror_mode": {
    "name": "ipython",
    "version": 3
   },
   "file_extension": ".py",
   "mimetype": "text/x-python",
   "name": "python",
   "nbconvert_exporter": "python",
   "pygments_lexer": "ipython3",
   "version": "3.8.8"
  }
 },
 "nbformat": 4,
 "nbformat_minor": 5
}
